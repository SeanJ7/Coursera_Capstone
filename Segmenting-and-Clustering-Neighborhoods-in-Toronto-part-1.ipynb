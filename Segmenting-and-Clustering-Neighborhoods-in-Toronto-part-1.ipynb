{
 "cells": [
  {
   "cell_type": "markdown",
   "metadata": {},
   "source": [
    "## Segmentation and Clustering Neighborhoods in Toronto -- Part 1"
   ]
  },
  {
   "cell_type": "code",
   "execution_count": 1,
   "metadata": {},
   "outputs": [],
   "source": [
    "# import libraries\n",
    "from bs4 import BeautifulSoup\n",
    "import requests\n",
    "import pandas as pd"
   ]
  },
  {
   "cell_type": "code",
   "execution_count": 2,
   "metadata": {},
   "outputs": [
    {
     "data": {
      "text/html": [
       "<div>\n",
       "<style scoped>\n",
       "    .dataframe tbody tr th:only-of-type {\n",
       "        vertical-align: middle;\n",
       "    }\n",
       "\n",
       "    .dataframe tbody tr th {\n",
       "        vertical-align: top;\n",
       "    }\n",
       "\n",
       "    .dataframe thead th {\n",
       "        text-align: right;\n",
       "    }\n",
       "</style>\n",
       "<table border=\"1\" class=\"dataframe\">\n",
       "  <thead>\n",
       "    <tr style=\"text-align: right;\">\n",
       "      <th></th>\n",
       "      <th>0</th>\n",
       "      <th>1</th>\n",
       "      <th>2</th>\n",
       "      <th>3</th>\n",
       "      <th>4</th>\n",
       "      <th>5</th>\n",
       "      <th>6</th>\n",
       "      <th>7</th>\n",
       "      <th>8</th>\n",
       "    </tr>\n",
       "  </thead>\n",
       "  <tbody>\n",
       "    <tr>\n",
       "      <th>0</th>\n",
       "      <td>M1ANot assigned</td>\n",
       "      <td>M2ANot assigned</td>\n",
       "      <td>M3ANorth York(Parkwoods)</td>\n",
       "      <td>M4ANorth York(Victoria Village)</td>\n",
       "      <td>M5ADowntown Toronto(Regent Park / Harbourfront)</td>\n",
       "      <td>M6ANorth York(Lawrence Manor / Lawrence Heights)</td>\n",
       "      <td>M7AQueen's Park(Ontario Provincial Government)</td>\n",
       "      <td>M8ANot assigned</td>\n",
       "      <td>M9AEtobicoke(Islington Avenue)</td>\n",
       "    </tr>\n",
       "    <tr>\n",
       "      <th>1</th>\n",
       "      <td>M1BScarborough(Malvern / Rouge)</td>\n",
       "      <td>M2BNot assigned</td>\n",
       "      <td>M3BNorth York(Don Mills)North</td>\n",
       "      <td>M4BEast York(Parkview Hill / Woodbine Gardens)</td>\n",
       "      <td>M5BDowntown Toronto(Garden District, Ryerson)</td>\n",
       "      <td>M6BNorth York(Glencairn)</td>\n",
       "      <td>M7BNot assigned</td>\n",
       "      <td>M8BNot assigned</td>\n",
       "      <td>M9BEtobicoke(West Deane Park / Princess Garden...</td>\n",
       "    </tr>\n",
       "    <tr>\n",
       "      <th>2</th>\n",
       "      <td>M1CScarborough(Rouge Hill / Port Union / Highl...</td>\n",
       "      <td>M2CNot assigned</td>\n",
       "      <td>M3CNorth York(Don Mills)South(Flemingdon Park)</td>\n",
       "      <td>M4CEast York(Woodbine Heights)</td>\n",
       "      <td>M5CDowntown Toronto(St. James Town)</td>\n",
       "      <td>M6CYork(Humewood-Cedarvale)</td>\n",
       "      <td>M7CNot assigned</td>\n",
       "      <td>M8CNot assigned</td>\n",
       "      <td>M9CEtobicoke(Eringate / Bloordale Gardens / Ol...</td>\n",
       "    </tr>\n",
       "    <tr>\n",
       "      <th>3</th>\n",
       "      <td>M1EScarborough(Guildwood / Morningside / West ...</td>\n",
       "      <td>M2ENot assigned</td>\n",
       "      <td>M3ENot assigned</td>\n",
       "      <td>M4EEast Toronto(The Beaches)</td>\n",
       "      <td>M5EDowntown Toronto(Berczy Park)</td>\n",
       "      <td>M6EYork(Caledonia-Fairbanks)</td>\n",
       "      <td>M7ENot assigned</td>\n",
       "      <td>M8ENot assigned</td>\n",
       "      <td>M9ENot assigned</td>\n",
       "    </tr>\n",
       "    <tr>\n",
       "      <th>4</th>\n",
       "      <td>M1GScarborough(Woburn)</td>\n",
       "      <td>M2GNot assigned</td>\n",
       "      <td>M3GNot assigned</td>\n",
       "      <td>M4GEast York(Leaside)</td>\n",
       "      <td>M5GDowntown Toronto(Central Bay Street)</td>\n",
       "      <td>M6GDowntown Toronto(Christie)</td>\n",
       "      <td>M7GNot assigned</td>\n",
       "      <td>M8GNot assigned</td>\n",
       "      <td>M9GNot assigned</td>\n",
       "    </tr>\n",
       "  </tbody>\n",
       "</table>\n",
       "</div>"
      ],
      "text/plain": [
       "                                                   0                1  \\\n",
       "0                                    M1ANot assigned  M2ANot assigned   \n",
       "1                    M1BScarborough(Malvern / Rouge)  M2BNot assigned   \n",
       "2  M1CScarborough(Rouge Hill / Port Union / Highl...  M2CNot assigned   \n",
       "3  M1EScarborough(Guildwood / Morningside / West ...  M2ENot assigned   \n",
       "4                             M1GScarborough(Woburn)  M2GNot assigned   \n",
       "\n",
       "                                                2  \\\n",
       "0                        M3ANorth York(Parkwoods)   \n",
       "1                   M3BNorth York(Don Mills)North   \n",
       "2  M3CNorth York(Don Mills)South(Flemingdon Park)   \n",
       "3                                 M3ENot assigned   \n",
       "4                                 M3GNot assigned   \n",
       "\n",
       "                                                3  \\\n",
       "0                 M4ANorth York(Victoria Village)   \n",
       "1  M4BEast York(Parkview Hill / Woodbine Gardens)   \n",
       "2                  M4CEast York(Woodbine Heights)   \n",
       "3                    M4EEast Toronto(The Beaches)   \n",
       "4                           M4GEast York(Leaside)   \n",
       "\n",
       "                                                 4  \\\n",
       "0  M5ADowntown Toronto(Regent Park / Harbourfront)   \n",
       "1    M5BDowntown Toronto(Garden District, Ryerson)   \n",
       "2              M5CDowntown Toronto(St. James Town)   \n",
       "3                 M5EDowntown Toronto(Berczy Park)   \n",
       "4          M5GDowntown Toronto(Central Bay Street)   \n",
       "\n",
       "                                                  5  \\\n",
       "0  M6ANorth York(Lawrence Manor / Lawrence Heights)   \n",
       "1                          M6BNorth York(Glencairn)   \n",
       "2                       M6CYork(Humewood-Cedarvale)   \n",
       "3                      M6EYork(Caledonia-Fairbanks)   \n",
       "4                     M6GDowntown Toronto(Christie)   \n",
       "\n",
       "                                                6                7  \\\n",
       "0  M7AQueen's Park(Ontario Provincial Government)  M8ANot assigned   \n",
       "1                                 M7BNot assigned  M8BNot assigned   \n",
       "2                                 M7CNot assigned  M8CNot assigned   \n",
       "3                                 M7ENot assigned  M8ENot assigned   \n",
       "4                                 M7GNot assigned  M8GNot assigned   \n",
       "\n",
       "                                                   8  \n",
       "0                     M9AEtobicoke(Islington Avenue)  \n",
       "1  M9BEtobicoke(West Deane Park / Princess Garden...  \n",
       "2  M9CEtobicoke(Eringate / Bloordale Gardens / Ol...  \n",
       "3                                    M9ENot assigned  \n",
       "4                                    M9GNot assigned  "
      ]
     },
     "execution_count": 2,
     "metadata": {},
     "output_type": "execute_result"
    }
   ],
   "source": [
    "# read the webpage from the wiki\n",
    "url='https://en.wikipedia.org/wiki/List_of_postal_codes_of_Canada:_M'\n",
    "response = requests.get(url)\n",
    "#Process and convert html data\n",
    "data = response.text\n",
    "soup = BeautifulSoup(data,'html.parser')\n",
    "wiki_table=soup.find('table')\n",
    "#develop dataframe\n",
    "df = pd.read_html(str(wiki_table))[0]\n",
    "df.head()"
   ]
  },
  {
   "cell_type": "code",
   "execution_count": 3,
   "metadata": {},
   "outputs": [],
   "source": [
    "# convert the above table to list\n",
    "my_list = df.values.tolist()"
   ]
  },
  {
   "cell_type": "code",
   "execution_count": 4,
   "metadata": {},
   "outputs": [],
   "source": [
    "# create a new list called my_new_list -- convert multiple lists to a single list\n",
    "my_new_list = []\n",
    "# Next we want to iterate over the outer list\n",
    "for sub_list in my_list:\n",
    "    # Now go over each item of the sublist\n",
    "    for item in sub_list:\n",
    "        # append it to our new list\n",
    "        my_new_list.append(item)"
   ]
  },
  {
   "cell_type": "code",
   "execution_count": 5,
   "metadata": {},
   "outputs": [
    {
     "name": "stdout",
     "output_type": "stream",
     "text": [
      "['M1ANot assigned', 'M2ANot assigned', 'M3ANorth York(Parkwoods)', 'M4ANorth York(Victoria Village)', 'M5ADowntown Toronto(Regent Park / Harbourfront)', 'M6ANorth York(Lawrence Manor / Lawrence Heights)', \"M7AQueen's Park(Ontario Provincial Government)\", 'M8ANot assigned', 'M9AEtobicoke(Islington Avenue)', 'M1BScarborough(Malvern / Rouge)', 'M2BNot assigned', 'M3BNorth York(Don Mills)North', 'M4BEast York(Parkview Hill / Woodbine Gardens)', 'M5BDowntown Toronto(Garden District, Ryerson)', 'M6BNorth York(Glencairn)', 'M7BNot assigned', 'M8BNot assigned', 'M9BEtobicoke(West Deane Park / Princess Gardens / Martin Grove / Islington / Cloverdale)', 'M1CScarborough(Rouge Hill / Port Union / Highland Creek)', 'M2CNot assigned', 'M3CNorth York(Don Mills)South(Flemingdon Park)', 'M4CEast York(Woodbine Heights)', 'M5CDowntown Toronto(St. James Town)', 'M6CYork(Humewood-Cedarvale)', 'M7CNot assigned', 'M8CNot assigned', 'M9CEtobicoke(Eringate / Bloordale Gardens / Old Burnhamthorpe / Markland Wood)', 'M1EScarborough(Guildwood / Morningside / West Hill)', 'M2ENot assigned', 'M3ENot assigned', 'M4EEast Toronto(The Beaches)', 'M5EDowntown Toronto(Berczy Park)', 'M6EYork(Caledonia-Fairbanks)', 'M7ENot assigned', 'M8ENot assigned', 'M9ENot assigned', 'M1GScarborough(Woburn)', 'M2GNot assigned', 'M3GNot assigned', 'M4GEast York(Leaside)', 'M5GDowntown Toronto(Central Bay Street)', 'M6GDowntown Toronto(Christie)', 'M7GNot assigned', 'M8GNot assigned', 'M9GNot assigned', 'M1HScarborough(Cedarbrae)', 'M2HNorth York(Hillcrest Village)', 'M3HNorth York(Bathurst Manor / Wilson Heights / Downsview North)', 'M4HEast York(Thorncliffe Park)', 'M5HDowntown Toronto(Richmond / Adelaide / King)', 'M6HWest Toronto(Dufferin / Dovercourt Village)', 'M7HNot assigned', 'M8HNot assigned', 'M9HNot assigned', 'M1JScarborough(Scarborough Village)', 'M2JNorth York(Fairview / Henry Farm / Oriole)', 'M3JNorth York(Northwood Park / York University)', 'M4JEast YorkEast Toronto(The Danforth East)', 'M5JDowntown Toronto(Harbourfront East / Union Station / Toronto Islands)', 'M6JWest Toronto(Little Portugal / Trinity)', 'M7JNot assigned', 'M8JNot assigned', 'M9JNot assigned', 'M1KScarborough(Kennedy Park / Ionview / East Birchmount Park)', 'M2KNorth York(Bayview Village)', 'M3KNorth York(Downsview)East (CFB Toronto)', 'M4KEast Toronto(The Danforth West / Riverdale)', 'M5KDowntown Toronto(Toronto Dominion Centre / Design Exchange)', 'M6KWest Toronto(Brockton / Parkdale Village / Exhibition Place)', 'M7KNot assigned', 'M8KNot assigned', 'M9KNot assigned', 'M1LScarborough(Golden Mile / Clairlea / Oakridge)', 'M2LNorth York(York Mills / Silver Hills)', 'M3LNorth York(Downsview)West', 'M4LEast Toronto(India Bazaar / The Beaches West)', 'M5LDowntown Toronto(Commerce Court / Victoria Hotel)', 'M6LNorth York(North Park / Maple Leaf Park / Upwood Park)', 'M7LNot assigned', 'M8LNot assigned', 'M9LNorth York(Humber Summit)', 'M1MScarborough(Cliffside / Cliffcrest / Scarborough Village West)', 'M2MNorth York(Willowdale / Newtonbrook)', 'M3MNorth York(Downsview)Central', 'M4MEast Toronto(Studio District)', 'M5MNorth York(Bedford Park / Lawrence Manor East)', 'M6MYork(Del Ray / Mount Dennis / Keelsdale and Silverthorn)', 'M7MNot assigned', 'M8MNot assigned', 'M9MNorth York(Humberlea / Emery)', 'M1NScarborough(Birch Cliff / Cliffside West)', 'M2NNorth York(Willowdale)South', 'M3NNorth York(Downsview)Northwest', 'M4NCentral Toronto(Lawrence Park)', 'M5NCentral Toronto(Roselawn)', 'M6NYork(Runnymede / The Junction North)', 'M7NNot assigned', 'M8NNot assigned', 'M9NYork(Weston)', 'M1PScarborough(Dorset Park / Wexford Heights / Scarborough Town Centre)', 'M2PNorth York(York Mills West)', 'M3PNot assigned', 'M4PCentral Toronto(Davisville North)', 'M5PCentral Toronto(Forest Hill North & West)', 'M6PWest Toronto(High Park / The Junction South)', 'M7PNot assigned', 'M8PNot assigned', 'M9PEtobicoke(Westmount)', 'M1RScarborough(Wexford / Maryvale)', 'M2RNorth York(Willowdale)West', 'M3RNot assigned', 'M4RCentral Toronto(North Toronto West)', 'M5RCentral Toronto(The Annex / North Midtown / Yorkville)', 'M6RWest Toronto(Parkdale / Roncesvalles)', 'M7RMississaugaCanada Post Gateway Processing Centre(Enclave of L4W)', 'M8RNot assigned', 'M9REtobicoke(Kingsview Village / St. Phillips / Martin Grove Gardens / Richview Gardens)', 'M1SScarborough(Agincourt)', 'M2SNot assigned', 'M3SNot assigned', 'M4SCentral Toronto(Davisville)', 'M5SDowntown Toronto(University of Toronto / Harbord)', 'M6SWest Toronto(Runnymede / Swansea)', 'M7SNot assigned', 'M8SNot assigned', 'M9SNot assigned', \"M1TScarborough(Clarks Corners / Tam O'Shanter / Sullivan)\", 'M2TNot assigned', 'M3TNot assigned', 'M4TCentral Toronto(Moore Park / Summerhill East)', 'M5TDowntown Toronto(Kensington Market / Chinatown / Grange Park)', 'M6TNot assigned', 'M7TNot assigned', 'M8TNot assigned', 'M9TNot assigned', \"M1VScarborough(Milliken / Agincourt North / Steeles East / L'Amoreaux East)\", 'M2VNot assigned', 'M3VNot assigned', 'M4VCentral Toronto(Summerhill West / Rathnelly / South Hill / Forest Hill SE / Deer Park)', 'M5VDowntown Toronto(CN Tower / King and Spadina / Railway Lands / Harbourfront West / Bathurst Quay / South Niagara / Island airport)', 'M6VNot assigned', 'M7VNot assigned', 'M8VEtobicoke(New Toronto / Mimico South / Humber Bay Shores)', 'M9VEtobicoke(South Steeles / Silverstone / Humbergate / Jamestown / Mount Olive / Beaumond Heights / Thistletown / Albion Gardens)', \"M1WScarborough(Steeles West / L'Amoreaux West)\", 'M2WNot assigned', 'M3WNot assigned', 'M4WDowntown Toronto(Rosedale)', 'M5WDowntown TorontoStn A PO Boxes25 The Esplanade(Enclave of M5E)', 'M6WNot assigned', 'M7WNot assigned', 'M8WEtobicoke(Alderwood / Long Branch)', 'M9WEtobicokeNorthwest(Clairville / Humberwood / Woodbine Downs / West Humber / Kipling Heights / Rexdale / Elms / Tandridge / Old Rexdale)', 'M1XScarborough(Upper Rouge)', 'M2XNot assigned', 'M3XNot assigned', 'M4XDowntown Toronto(St. James Town / Cabbagetown)', 'M5XDowntown Toronto(First Canadian Place / Underground city)', 'M6XNot assigned', 'M7XNot assigned', 'M8XEtobicoke(The Kingsway / Montgomery Road / Old Mill North)', 'M9XNot assigned', 'M1YNot assigned', 'M2YNot assigned', 'M3YNot assigned', 'M4YDowntown Toronto(Church and Wellesley)', 'M5YNot assigned', 'M6YNot assigned', 'M7YEast TorontoBusiness reply mail Processing Centre969 Eastern(Enclave of M4L)', \"M8YEtobicoke(Old Mill South / King's Mill Park / Sunnylea / Humber Bay / Mimico NE / The Queensway East / Royal York South East / Kingsway Park South East)\", 'M9YNot assigned', 'M1ZNot assigned', 'M2ZNot assigned', 'M3ZNot assigned', 'M4ZNot assigned', 'M5ZNot assigned', 'M6ZNot assigned', 'M7ZNot assigned', 'M8ZEtobicoke(Mimico NW / The Queensway West / South of Bloor / Kingsway Park South West / Royal York South West)', 'M9ZNot assigned']\n"
     ]
    }
   ],
   "source": [
    "# check my_new_list\n",
    "print(my_new_list)"
   ]
  },
  {
   "cell_type": "code",
   "execution_count": 6,
   "metadata": {},
   "outputs": [],
   "source": [
    "# split postalcode and Borough\n",
    "def split_var(s, n=3):\n",
    "    frist_N = s[:n] # select the first 3 characters from left\n",
    "    after_N = s[n:] # select the rest of characters\n",
    "    return frist_N, after_N"
   ]
  },
  {
   "cell_type": "code",
   "execution_count": 7,
   "metadata": {},
   "outputs": [],
   "source": [
    "# create postalcode list and Borough list\n",
    "Postalcode_list = []\n",
    "Borough_list = []\n",
    "for i in my_new_list:\n",
    "    Postalcode_value, Borough_value = split_var(i, n=3)\n",
    "    \n",
    "    Postalcode_list.append(Postalcode_value)\n",
    "    Borough_list.append(Borough_value)"
   ]
  },
  {
   "cell_type": "code",
   "execution_count": 8,
   "metadata": {},
   "outputs": [],
   "source": [
    "# split Borough and Neigbourhood\n",
    "def split_var2(s):\n",
    "    if s == \"Not assigned\":\n",
    "        value_1 = s\n",
    "        value_3 = s\n",
    "    else:    \n",
    "        first_N = s.split('(') # split value by '('\n",
    "        value_1 = first_N[0]\n",
    "        value_2 = first_N[1].replace(')', ' ') # replace ')' with blank\n",
    "        value_3 = value_2.replace(' /', ',') # replace '/' with ','\n",
    "    return value_1, value_3"
   ]
  },
  {
   "cell_type": "code",
   "execution_count": 9,
   "metadata": {},
   "outputs": [],
   "source": [
    "# create Borough list and Neighborhood list\n",
    "Borough_2_list= []\n",
    "Neighborhood_list= []\n",
    "for i in Borough_list:\n",
    "    Borough_2_value, Neighborhood_value = split_var2(i)\n",
    "    \n",
    "    Borough_2_list.append(Borough_2_value)\n",
    "    Neighborhood_list.append(Neighborhood_value)"
   ]
  },
  {
   "cell_type": "code",
   "execution_count": 10,
   "metadata": {},
   "outputs": [],
   "source": [
    "df_clean = pd.DataFrame()\n",
    "df_clean['Postalcode'] = Postalcode_list\n",
    "df_clean['Borough'] = Borough_2_list\n",
    "df_clean['Neighborhood'] = Neighborhood_list"
   ]
  },
  {
   "cell_type": "code",
   "execution_count": 11,
   "metadata": {},
   "outputs": [
    {
     "name": "stdout",
     "output_type": "stream",
     "text": [
      "(180, 3)\n"
     ]
    },
    {
     "data": {
      "text/html": [
       "<div>\n",
       "<style scoped>\n",
       "    .dataframe tbody tr th:only-of-type {\n",
       "        vertical-align: middle;\n",
       "    }\n",
       "\n",
       "    .dataframe tbody tr th {\n",
       "        vertical-align: top;\n",
       "    }\n",
       "\n",
       "    .dataframe thead th {\n",
       "        text-align: right;\n",
       "    }\n",
       "</style>\n",
       "<table border=\"1\" class=\"dataframe\">\n",
       "  <thead>\n",
       "    <tr style=\"text-align: right;\">\n",
       "      <th></th>\n",
       "      <th>Postalcode</th>\n",
       "      <th>Borough</th>\n",
       "      <th>Neighborhood</th>\n",
       "    </tr>\n",
       "  </thead>\n",
       "  <tbody>\n",
       "    <tr>\n",
       "      <th>0</th>\n",
       "      <td>M1A</td>\n",
       "      <td>Not assigned</td>\n",
       "      <td>Not assigned</td>\n",
       "    </tr>\n",
       "    <tr>\n",
       "      <th>1</th>\n",
       "      <td>M2A</td>\n",
       "      <td>Not assigned</td>\n",
       "      <td>Not assigned</td>\n",
       "    </tr>\n",
       "    <tr>\n",
       "      <th>2</th>\n",
       "      <td>M3A</td>\n",
       "      <td>North York</td>\n",
       "      <td>Parkwoods</td>\n",
       "    </tr>\n",
       "    <tr>\n",
       "      <th>3</th>\n",
       "      <td>M4A</td>\n",
       "      <td>North York</td>\n",
       "      <td>Victoria Village</td>\n",
       "    </tr>\n",
       "    <tr>\n",
       "      <th>4</th>\n",
       "      <td>M5A</td>\n",
       "      <td>Downtown Toronto</td>\n",
       "      <td>Regent Park, Harbourfront</td>\n",
       "    </tr>\n",
       "    <tr>\n",
       "      <th>5</th>\n",
       "      <td>M6A</td>\n",
       "      <td>North York</td>\n",
       "      <td>Lawrence Manor, Lawrence Heights</td>\n",
       "    </tr>\n",
       "    <tr>\n",
       "      <th>6</th>\n",
       "      <td>M7A</td>\n",
       "      <td>Queen's Park</td>\n",
       "      <td>Ontario Provincial Government</td>\n",
       "    </tr>\n",
       "    <tr>\n",
       "      <th>7</th>\n",
       "      <td>M8A</td>\n",
       "      <td>Not assigned</td>\n",
       "      <td>Not assigned</td>\n",
       "    </tr>\n",
       "    <tr>\n",
       "      <th>8</th>\n",
       "      <td>M9A</td>\n",
       "      <td>Etobicoke</td>\n",
       "      <td>Islington Avenue</td>\n",
       "    </tr>\n",
       "    <tr>\n",
       "      <th>9</th>\n",
       "      <td>M1B</td>\n",
       "      <td>Scarborough</td>\n",
       "      <td>Malvern, Rouge</td>\n",
       "    </tr>\n",
       "    <tr>\n",
       "      <th>10</th>\n",
       "      <td>M2B</td>\n",
       "      <td>Not assigned</td>\n",
       "      <td>Not assigned</td>\n",
       "    </tr>\n",
       "    <tr>\n",
       "      <th>11</th>\n",
       "      <td>M3B</td>\n",
       "      <td>North York</td>\n",
       "      <td>Don Mills North</td>\n",
       "    </tr>\n",
       "  </tbody>\n",
       "</table>\n",
       "</div>"
      ],
      "text/plain": [
       "   Postalcode           Borough                       Neighborhood\n",
       "0         M1A      Not assigned                       Not assigned\n",
       "1         M2A      Not assigned                       Not assigned\n",
       "2         M3A        North York                         Parkwoods \n",
       "3         M4A        North York                  Victoria Village \n",
       "4         M5A  Downtown Toronto         Regent Park, Harbourfront \n",
       "5         M6A        North York  Lawrence Manor, Lawrence Heights \n",
       "6         M7A      Queen's Park     Ontario Provincial Government \n",
       "7         M8A      Not assigned                       Not assigned\n",
       "8         M9A         Etobicoke                  Islington Avenue \n",
       "9         M1B       Scarborough                    Malvern, Rouge \n",
       "10        M2B      Not assigned                       Not assigned\n",
       "11        M3B        North York                    Don Mills North"
      ]
     },
     "execution_count": 11,
     "metadata": {},
     "output_type": "execute_result"
    }
   ],
   "source": [
    "# check the clean dataset shape\n",
    "print(df_clean.shape)\n",
    "\n",
    "# check the clean dataset\n",
    "df_clean.head(12)"
   ]
  },
  {
   "cell_type": "code",
   "execution_count": 12,
   "metadata": {},
   "outputs": [],
   "source": [
    "# remove not assigned from Borough\n",
    "df_clean_final = df_clean[df_clean['Borough']!= 'Not assigned']"
   ]
  },
  {
   "cell_type": "code",
   "execution_count": 13,
   "metadata": {},
   "outputs": [
    {
     "data": {
      "text/html": [
       "<div>\n",
       "<style scoped>\n",
       "    .dataframe tbody tr th:only-of-type {\n",
       "        vertical-align: middle;\n",
       "    }\n",
       "\n",
       "    .dataframe tbody tr th {\n",
       "        vertical-align: top;\n",
       "    }\n",
       "\n",
       "    .dataframe thead th {\n",
       "        text-align: right;\n",
       "    }\n",
       "</style>\n",
       "<table border=\"1\" class=\"dataframe\">\n",
       "  <thead>\n",
       "    <tr style=\"text-align: right;\">\n",
       "      <th></th>\n",
       "      <th>Postalcode</th>\n",
       "      <th>Borough</th>\n",
       "      <th>Neighborhood</th>\n",
       "    </tr>\n",
       "  </thead>\n",
       "  <tbody>\n",
       "    <tr>\n",
       "      <th>2</th>\n",
       "      <td>M3A</td>\n",
       "      <td>North York</td>\n",
       "      <td>Parkwoods</td>\n",
       "    </tr>\n",
       "    <tr>\n",
       "      <th>3</th>\n",
       "      <td>M4A</td>\n",
       "      <td>North York</td>\n",
       "      <td>Victoria Village</td>\n",
       "    </tr>\n",
       "    <tr>\n",
       "      <th>4</th>\n",
       "      <td>M5A</td>\n",
       "      <td>Downtown Toronto</td>\n",
       "      <td>Regent Park, Harbourfront</td>\n",
       "    </tr>\n",
       "    <tr>\n",
       "      <th>5</th>\n",
       "      <td>M6A</td>\n",
       "      <td>North York</td>\n",
       "      <td>Lawrence Manor, Lawrence Heights</td>\n",
       "    </tr>\n",
       "    <tr>\n",
       "      <th>6</th>\n",
       "      <td>M7A</td>\n",
       "      <td>Queen's Park</td>\n",
       "      <td>Ontario Provincial Government</td>\n",
       "    </tr>\n",
       "    <tr>\n",
       "      <th>8</th>\n",
       "      <td>M9A</td>\n",
       "      <td>Etobicoke</td>\n",
       "      <td>Islington Avenue</td>\n",
       "    </tr>\n",
       "    <tr>\n",
       "      <th>9</th>\n",
       "      <td>M1B</td>\n",
       "      <td>Scarborough</td>\n",
       "      <td>Malvern, Rouge</td>\n",
       "    </tr>\n",
       "    <tr>\n",
       "      <th>11</th>\n",
       "      <td>M3B</td>\n",
       "      <td>North York</td>\n",
       "      <td>Don Mills North</td>\n",
       "    </tr>\n",
       "    <tr>\n",
       "      <th>12</th>\n",
       "      <td>M4B</td>\n",
       "      <td>East York</td>\n",
       "      <td>Parkview Hill, Woodbine Gardens</td>\n",
       "    </tr>\n",
       "    <tr>\n",
       "      <th>13</th>\n",
       "      <td>M5B</td>\n",
       "      <td>Downtown Toronto</td>\n",
       "      <td>Garden District, Ryerson</td>\n",
       "    </tr>\n",
       "    <tr>\n",
       "      <th>14</th>\n",
       "      <td>M6B</td>\n",
       "      <td>North York</td>\n",
       "      <td>Glencairn</td>\n",
       "    </tr>\n",
       "    <tr>\n",
       "      <th>17</th>\n",
       "      <td>M9B</td>\n",
       "      <td>Etobicoke</td>\n",
       "      <td>West Deane Park, Princess Gardens, Martin Grov...</td>\n",
       "    </tr>\n",
       "  </tbody>\n",
       "</table>\n",
       "</div>"
      ],
      "text/plain": [
       "   Postalcode           Borough  \\\n",
       "2         M3A        North York   \n",
       "3         M4A        North York   \n",
       "4         M5A  Downtown Toronto   \n",
       "5         M6A        North York   \n",
       "6         M7A      Queen's Park   \n",
       "8         M9A         Etobicoke   \n",
       "9         M1B       Scarborough   \n",
       "11        M3B        North York   \n",
       "12        M4B         East York   \n",
       "13        M5B  Downtown Toronto   \n",
       "14        M6B        North York   \n",
       "17        M9B         Etobicoke   \n",
       "\n",
       "                                         Neighborhood  \n",
       "2                                          Parkwoods   \n",
       "3                                   Victoria Village   \n",
       "4                          Regent Park, Harbourfront   \n",
       "5                   Lawrence Manor, Lawrence Heights   \n",
       "6                      Ontario Provincial Government   \n",
       "8                                   Islington Avenue   \n",
       "9                                     Malvern, Rouge   \n",
       "11                                    Don Mills North  \n",
       "12                   Parkview Hill, Woodbine Gardens   \n",
       "13                          Garden District, Ryerson   \n",
       "14                                         Glencairn   \n",
       "17  West Deane Park, Princess Gardens, Martin Grov...  "
      ]
     },
     "execution_count": 13,
     "metadata": {},
     "output_type": "execute_result"
    }
   ],
   "source": [
    "# check the final clean dataset \n",
    "df_clean_final.head(12)"
   ]
  },
  {
   "cell_type": "code",
   "execution_count": 14,
   "metadata": {},
   "outputs": [
    {
     "data": {
      "text/plain": [
       "(103, 3)"
      ]
     },
     "execution_count": 14,
     "metadata": {},
     "output_type": "execute_result"
    }
   ],
   "source": [
    "# check the final clean dataset shape\n",
    "df_clean_final.shape"
   ]
  },
  {
   "cell_type": "code",
   "execution_count": 15,
   "metadata": {},
   "outputs": [
    {
     "name": "stdout",
     "output_type": "stream",
     "text": [
      "Number of Postalcode in the table is: 103\n",
      "Number of Unique Postalcode value is: 103\n"
     ]
    }
   ],
   "source": [
    "# check number of unique Postalcode\n",
    "print('Number of Postalcode in the table is: ' + str(df_clean_final.shape[0]))\n",
    "print('Number of Unique Postalcode value is: ' + str(df_clean_final.Postalcode.nunique()))"
   ]
  },
  {
   "cell_type": "code",
   "execution_count": 16,
   "metadata": {},
   "outputs": [
    {
     "name": "stdout",
     "output_type": "stream",
     "text": [
      "Saved Successfully!\n"
     ]
    }
   ],
   "source": [
    "# save the clean dataset\n",
    "df_clean_final.to_csv('capstone_part1.csv')\n",
    "print('Saved Successfully!')"
   ]
  },
  {
   "cell_type": "code",
   "execution_count": null,
   "metadata": {},
   "outputs": [],
   "source": []
  }
 ],
 "metadata": {
  "kernelspec": {
   "display_name": "Python 3",
   "language": "python",
   "name": "python3"
  },
  "language_info": {
   "codemirror_mode": {
    "name": "ipython",
    "version": 3
   },
   "file_extension": ".py",
   "mimetype": "text/x-python",
   "name": "python",
   "nbconvert_exporter": "python",
   "pygments_lexer": "ipython3",
   "version": "3.8.5"
  }
 },
 "nbformat": 4,
 "nbformat_minor": 4
}
